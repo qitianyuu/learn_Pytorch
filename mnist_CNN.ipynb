{
 "cells": [
  {
   "cell_type": "markdown",
   "id": "04bd6e13",
   "metadata": {},
   "source": [
    "## Mnist"
   ]
  },
  {
   "cell_type": "code",
   "execution_count": 1,
   "id": "9b7e5841",
   "metadata": {},
   "outputs": [],
   "source": [
    "import numpy as np\n",
    "import torch\n",
    "import matplotlib.pyplot as plt\n",
    "from torch import nn, optim\n",
    "from torch.autograd import Variable\n",
    "from torchvision import datasets, transforms\n",
    "from torch.utils.data import DataLoader"
   ]
  },
  {
   "cell_type": "code",
   "execution_count": 2,
   "id": "c6854bc1",
   "metadata": {},
   "outputs": [],
   "source": [
    "train_data = datasets.MNIST(root='/Users/qi/Documents/cood/ML/dataBase/',\n",
    "                            train=True,\n",
    "                            transform=transforms.ToTensor(),\n",
    "                            download=True)\n",
    "\n",
    "test_data = datasets.MNIST(root='/Users/qi/Documents/cood/ML/dataBase/',\n",
    "                            train=False,\n",
    "                            transform=transforms.ToTensor(),\n",
    "                            download=True)"
   ]
  },
  {
   "cell_type": "code",
   "execution_count": 3,
   "id": "a4df3288",
   "metadata": {},
   "outputs": [],
   "source": [
    "batch_size = 64"
   ]
  },
  {
   "cell_type": "code",
   "execution_count": 5,
   "id": "b1f3fc8e",
   "metadata": {},
   "outputs": [],
   "source": [
    "train_loader = DataLoader(dataset=train_data,\n",
    "                          shuffle=True,\n",
    "                          batch_size=batch_size)\n",
    "\n",
    "test_loader = DataLoader(dataset=test_data,\n",
    "                          shuffle=True,\n",
    "                          batch_size=batch_size)"
   ]
  },
  {
   "cell_type": "markdown",
   "id": "2ef22f59",
   "metadata": {},
   "source": [
    "### CNN"
   ]
  },
  {
   "cell_type": "code",
   "execution_count": 13,
   "id": "e3f86600",
   "metadata": {},
   "outputs": [],
   "source": [
    "class cnnNet(nn.Module):\n",
    "    def __init__(self):\n",
    "        super(cnnNet, self).__init__()\n",
    "        # 28 * 28\n",
    "        self.conv1 = nn.Sequential(nn.Conv2d(1,32,5,1,2), nn.ReLU(), nn.MaxPool2d(2,2))\n",
    "        # 14 * 14 because pooling\n",
    "        self.conv2 = nn.Sequential(nn.Conv2d(32,64,5,1,2), nn.ReLU(), nn.MaxPool2d(2,2))\n",
    "        # 7 * 7 because pooling\n",
    "        self.fc1 = nn.Sequential(nn.Linear(64*7*7,1000), nn.Dropout(0.5), nn.ReLU())\n",
    "        self.fc2 = nn.Sequential(nn.Linear(1000,10), nn.Softmax(dim=1))\n",
    "        \n",
    "    def forward(self, x):\n",
    "        # x -> [64,1,28,28]\n",
    "        x = self.conv1(x)\n",
    "        x = self.conv2(x)\n",
    "        x = x.view(x.size()[0], -1)\n",
    "        x = self.fc1(x)\n",
    "        x = self.fc2(x)\n",
    "        return x"
   ]
  },
  {
   "cell_type": "code",
   "execution_count": 48,
   "id": "17d5ee49",
   "metadata": {},
   "outputs": [],
   "source": [
    "LR = 0.01\n",
    "model = cnnNet()\n",
    "Loss_fc = nn.CrossEntropyLoss()\n",
    "optimizer = optim.SGD(model.parameters(), LR)"
   ]
  },
  {
   "cell_type": "code",
   "execution_count": 49,
   "id": "396ac5d1",
   "metadata": {},
   "outputs": [],
   "source": [
    "def train():\n",
    "    for i, data in enumerate(train_loader):\n",
    "        inputs, target = data\n",
    "        out = model(inputs)\n",
    "        loss = Loss_fc(out, target)\n",
    "        optimizer.zero_grad()\n",
    "        loss.backward()\n",
    "        optimizer.step()"
   ]
  },
  {
   "cell_type": "code",
   "execution_count": 50,
   "id": "25b539ec",
   "metadata": {},
   "outputs": [],
   "source": [
    "def test():\n",
    "    corrent = 0\n",
    "    for i, data in enumerate(test_loader):\n",
    "        inputs, target = data\n",
    "        out = model(inputs)\n",
    "        _, pred = torch.max(out, 1)\n",
    "        corrent += (pred == target).sum(0)\n",
    "    print('Test acc {0}'.format(corrent.item()/len(test_data)))"
   ]
  },
  {
   "cell_type": "code",
   "execution_count": 51,
   "id": "02dc82ee",
   "metadata": {},
   "outputs": [
    {
     "name": "stdout",
     "output_type": "stream",
     "text": [
      "epoch  0\n",
      "Test acc 0.1782\n",
      "epoch  1\n",
      "Test acc 0.2507\n",
      "epoch  2\n",
      "Test acc 0.7721\n"
     ]
    }
   ],
   "source": [
    "for epoch in range(3):\n",
    "    print('epoch ',epoch)\n",
    "    train()\n",
    "    test()"
   ]
  },
  {
   "cell_type": "markdown",
   "id": "8defbc75",
   "metadata": {},
   "source": [
    "### LSTM"
   ]
  },
  {
   "cell_type": "code",
   "execution_count": 55,
   "id": "75062784",
   "metadata": {},
   "outputs": [],
   "source": [
    "class lstmNet(nn.Module):\n",
    "    def __init__(self):\n",
    "        super(lstmNet, self).__init__()\n",
    "        # 28 * 28\n",
    "        self.lstm = nn.LSTM(\n",
    "            # 输入特征大小 每行28个值\n",
    "            input_size=28,\n",
    "            # LSTM模块的数量\n",
    "            hidden_size=64,\n",
    "            # 隐藏层数\n",
    "            num_layers=1,\n",
    "            # 默认输入是 (seq_len, batch, feature) -> 序列长度、batch、特征\n",
    "            # 如果 batch_first=True -> (batch,seq_len, feature)\n",
    "            batch_first=True)\n",
    "        self.out = nn.Linear(64,10)\n",
    "        self.softmax = nn.Softmax(dim=1)\n",
    "    def forward(self, x):\n",
    "        # x -> [64,1,28,28]\n",
    "        x = x.view(-1,28,28)\n",
    "        # output 输出数据 -> (batch, seq_len, hidden_size) 包含每一个序列的输出结果\n",
    "        # h_n 输出数据 -> (num_layers, batch, hidden_size) 包含最后一个序列的输出结果\n",
    "        # c_n 输出数据 -> (num_layers, batch, hidden_size) 包含最后一个序列的输出结果\n",
    "        output, (h_n, c_n) = self.lstm(x)\n",
    "        output_in_lats_timestep = h_n[-1,:,:]\n",
    "        x = self.out(output_in_lats_timestep)\n",
    "        x = self.softmax(x)\n",
    "        return x"
   ]
  },
  {
   "cell_type": "code",
   "execution_count": 56,
   "id": "5521e975",
   "metadata": {},
   "outputs": [],
   "source": [
    "LR = 0.01\n",
    "model = lstmNet()\n",
    "Loss_fc = nn.CrossEntropyLoss()\n",
    "optimizer = optim.Adam(model.parameters(), LR)"
   ]
  },
  {
   "cell_type": "code",
   "execution_count": 57,
   "id": "d1888959",
   "metadata": {},
   "outputs": [
    {
     "name": "stdout",
     "output_type": "stream",
     "text": [
      "epoch  0\n",
      "Test acc 0.8912\n",
      "epoch  1\n",
      "Test acc 0.9196\n",
      "epoch  2\n",
      "Test acc 0.9206\n",
      "epoch  3\n",
      "Test acc 0.9322\n",
      "epoch  4\n",
      "Test acc 0.9186\n"
     ]
    }
   ],
   "source": [
    "for epoch in range(5):\n",
    "    print('epoch ',epoch)\n",
    "    train()\n",
    "    test()"
   ]
  },
  {
   "cell_type": "markdown",
   "id": "fd3f52b1",
   "metadata": {},
   "source": [
    "### 模型的保存和载入"
   ]
  },
  {
   "cell_type": "markdown",
   "id": "5eb5c5b2",
   "metadata": {},
   "source": [
    "保存"
   ]
  },
  {
   "cell_type": "code",
   "execution_count": 58,
   "id": "1b79afa6",
   "metadata": {},
   "outputs": [],
   "source": [
    "torch.save(model.state_dict(), 'save_my_model.pth')"
   ]
  },
  {
   "cell_type": "markdown",
   "id": "7e7070cc",
   "metadata": {},
   "source": [
    "载入，先定义模型，再载入"
   ]
  },
  {
   "cell_type": "code",
   "execution_count": 59,
   "id": "78513afc",
   "metadata": {},
   "outputs": [],
   "source": [
    "# 定义模型\n",
    "model_ = lstmNet()\n",
    "# 加载参数\n",
    "model_.load_state_dict(torch.load('save_my_model.pth'))\n",
    "\n",
    "LR = 0.01\n",
    "Loss_fc = nn.CrossEntropyLoss()\n",
    "optimizer = optim.Adam(model.parameters(), LR)"
   ]
  },
  {
   "cell_type": "code",
   "execution_count": 60,
   "id": "240a5897",
   "metadata": {},
   "outputs": [],
   "source": [
    "def test_():\n",
    "    corrent = 0\n",
    "    for i, data in enumerate(test_loader):\n",
    "        inputs, target = data\n",
    "        out = model_(inputs)\n",
    "        _, pred = torch.max(out, 1)\n",
    "        corrent += (pred == target).sum(0)\n",
    "    print('Test acc {0}'.format(corrent.item()/len(test_data)))"
   ]
  },
  {
   "cell_type": "code",
   "execution_count": 61,
   "id": "b4798492",
   "metadata": {},
   "outputs": [
    {
     "name": "stdout",
     "output_type": "stream",
     "text": [
      "Test acc 0.9186\n"
     ]
    }
   ],
   "source": [
    "test_()"
   ]
  },
  {
   "cell_type": "markdown",
   "id": "87b88b87",
   "metadata": {},
   "source": [
    "可以看到已经载入成功了"
   ]
  }
 ],
 "metadata": {
  "kernelspec": {
   "display_name": "Python 3 (ipykernel)",
   "language": "python",
   "name": "python3"
  },
  "language_info": {
   "codemirror_mode": {
    "name": "ipython",
    "version": 3
   },
   "file_extension": ".py",
   "mimetype": "text/x-python",
   "name": "python",
   "nbconvert_exporter": "python",
   "pygments_lexer": "ipython3",
   "version": "3.8.2"
  }
 },
 "nbformat": 4,
 "nbformat_minor": 5
}
