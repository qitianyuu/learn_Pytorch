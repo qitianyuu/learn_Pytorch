{
 "cells": [
  {
   "cell_type": "markdown",
   "id": "9b64db8e",
   "metadata": {},
   "source": [
    "## Mnist"
   ]
  },
  {
   "cell_type": "code",
   "execution_count": 1,
   "id": "67699748",
   "metadata": {},
   "outputs": [],
   "source": [
    "import numpy as np\n",
    "import torch\n",
    "import matplotlib.pyplot as plt\n",
    "from torch import nn, optim\n",
    "from torch.autograd import Variable\n",
    "from torchvision import datasets, transforms\n",
    "from torch.utils.data import DataLoader"
   ]
  },
  {
   "cell_type": "code",
   "execution_count": 2,
   "id": "a135642d",
   "metadata": {},
   "outputs": [],
   "source": [
    "train_dataset = datasets.MNIST(root='/Users/qi/Documents/cood/ML/dataBase/', \n",
    "                               train=True,\n",
    "                               transform = transforms.ToTensor(),\n",
    "                               download=True)\n",
    "\n",
    "test_dataset = datasets.MNIST(root='/Users/qi/Documents/cood/ML/dataBase/', \n",
    "                               train=False,\n",
    "                               transform = transforms.ToTensor(),\n",
    "                               download=True)"
   ]
  },
  {
   "cell_type": "code",
   "execution_count": 3,
   "id": "f7eb37e5",
   "metadata": {},
   "outputs": [],
   "source": [
    "batch_size = 64"
   ]
  },
  {
   "cell_type": "code",
   "execution_count": 4,
   "id": "867ecfad",
   "metadata": {},
   "outputs": [],
   "source": [
    "train_loader = DataLoader(dataset=train_dataset, \n",
    "                          batch_size = batch_size,\n",
    "                          shuffle=True)\n",
    "\n",
    "test_loader = DataLoader(dataset=test_dataset, \n",
    "                         batch_size = batch_size,\n",
    "                         shuffle=True)"
   ]
  },
  {
   "cell_type": "markdown",
   "id": "076832b1",
   "metadata": {},
   "source": [
    "### 定义网络结构"
   ]
  },
  {
   "cell_type": "code",
   "execution_count": 5,
   "id": "714c53a6",
   "metadata": {},
   "outputs": [],
   "source": [
    "class Net(nn.Module):\n",
    "    def __init__(self):\n",
    "        super(Net, self).__init__()\n",
    "        self.fc1 = nn.Linear(784, 10)\n",
    "        # 64，10 dim=1 代表着用第一个维度进行 softmax 转换，即 10\n",
    "        self.softmax = nn.Softmax(dim=1)\n",
    "        \n",
    "        \n",
    "    def forward(self, x):\n",
    "        x = x.view(x.size()[0], -1)\n",
    "        x = self.fc1(x)\n",
    "        x = self.softmax(x)\n",
    "        return x"
   ]
  },
  {
   "cell_type": "code",
   "execution_count": 6,
   "id": "e2f97acd",
   "metadata": {},
   "outputs": [],
   "source": [
    "LR = 0.5\n",
    "model = Net()\n",
    "mse_loss = nn.MSELoss()\n",
    "optimizer = optim.SGD(model.parameters(), LR)"
   ]
  },
  {
   "cell_type": "code",
   "execution_count": 7,
   "id": "aedbd166",
   "metadata": {},
   "outputs": [],
   "source": [
    "def train():\n",
    "    for i, data in enumerate(train_loader):\n",
    "        inputs, labels = data\n",
    "        # 独热编码\n",
    "        labels = labels.reshape(-1,1)\n",
    "        # tensor.scatter(dim, index, src)\n",
    "        # dim 对哪个维度进行独热编码\n",
    "        # index 要将 src 中的值放到 tensor 的哪个位置\n",
    "        # src 插入 index 的数值\n",
    "        one_hot = torch.zeros(inputs.shape[0],10).scatter(1, labels, 1)\n",
    "        out = model(inputs)\n",
    "        # 这两个数值的维度要保持一致\n",
    "        loss = mse_loss(out, one_hot)\n",
    "        optimizer.zero_grad()\n",
    "        loss.backward()\n",
    "        optimizer.step()"
   ]
  },
  {
   "cell_type": "code",
   "execution_count": 8,
   "id": "c04a373c",
   "metadata": {},
   "outputs": [],
   "source": [
    "def test():\n",
    "    corrent = 0\n",
    "    for i, data in enumerate(test_loader):\n",
    "        inputs, labels = data\n",
    "        out = model(inputs)\n",
    "        # 返回最大值，及最大值的索引 1代表需要计算的维度\n",
    "        _, predict = torch.max(out, 1)\n",
    "        corrent += (predict == labels).sum(0)\n",
    "    print('Test acc {0}'.format(corrent.item()/len(test_dataset)))"
   ]
  },
  {
   "cell_type": "code",
   "execution_count": 9,
   "id": "f251d894",
   "metadata": {
    "scrolled": true
   },
   "outputs": [
    {
     "name": "stdout",
     "output_type": "stream",
     "text": [
      "epoch  0\n",
      "Test acc 0.8897\n",
      "epoch  1\n",
      "Test acc 0.9039\n",
      "epoch  2\n",
      "Test acc 0.9069\n",
      "epoch  3\n",
      "Test acc 0.9117\n",
      "epoch  4\n",
      "Test acc 0.9146\n",
      "epoch  5\n",
      "Test acc 0.915\n",
      "epoch  6\n",
      "Test acc 0.918\n",
      "epoch  7\n",
      "Test acc 0.9186\n",
      "epoch  8\n",
      "Test acc 0.919\n",
      "epoch  9\n",
      "Test acc 0.9199\n"
     ]
    }
   ],
   "source": [
    "for epoch in range(10):\n",
    "    print('epoch ',epoch)\n",
    "    train()\n",
    "    test()"
   ]
  },
  {
   "cell_type": "markdown",
   "id": "d03c4ebc",
   "metadata": {},
   "source": [
    "#### 交叉熵"
   ]
  },
  {
   "cell_type": "code",
   "execution_count": 10,
   "id": "fc783042",
   "metadata": {},
   "outputs": [],
   "source": [
    "LR = 0.5\n",
    "model = Net()\n",
    "ce_loss = nn.CrossEntropyLoss()\n",
    "optimizer = optim.SGD(model.parameters(), LR)"
   ]
  },
  {
   "cell_type": "code",
   "execution_count": 11,
   "id": "50d181cc",
   "metadata": {},
   "outputs": [],
   "source": [
    "def train():\n",
    "    for i, data in enumerate(train_loader):\n",
    "        inputs, labels = data\n",
    "        out = model(inputs)\n",
    "        loss = ce_loss(out, labels)\n",
    "        optimizer.zero_grad()\n",
    "        loss.backward()\n",
    "        optimizer.step()"
   ]
  },
  {
   "cell_type": "code",
   "execution_count": 12,
   "id": "fcdb9dba",
   "metadata": {},
   "outputs": [
    {
     "name": "stdout",
     "output_type": "stream",
     "text": [
      "epoch  0\n",
      "Test acc 0.903\n",
      "epoch  1\n",
      "Test acc 0.9123\n",
      "epoch  2\n",
      "Test acc 0.9173\n",
      "epoch  3\n",
      "Test acc 0.9182\n",
      "epoch  4\n",
      "Test acc 0.9189\n",
      "epoch  5\n",
      "Test acc 0.9226\n",
      "epoch  6\n",
      "Test acc 0.9219\n",
      "epoch  7\n",
      "Test acc 0.9244\n",
      "epoch  8\n",
      "Test acc 0.9241\n",
      "epoch  9\n",
      "Test acc 0.9241\n"
     ]
    }
   ],
   "source": [
    "for epoch in range(10):\n",
    "    print('epoch ',epoch)\n",
    "    train()\n",
    "    test()"
   ]
  },
  {
   "cell_type": "markdown",
   "id": "2cbd1bf7",
   "metadata": {},
   "source": [
    "### 添加Dropout\n",
    "修改网络结构"
   ]
  },
  {
   "cell_type": "code",
   "execution_count": 17,
   "id": "f3350595",
   "metadata": {},
   "outputs": [],
   "source": [
    "class Net_1(nn.Module):\n",
    "    def __init__(self):\n",
    "        super(Net_1, self).__init__()\n",
    "        self.layers1 = nn.Sequential(\n",
    "            nn.Linear(784, 500), \n",
    "            nn.Dropout(0.5),\n",
    "            nn.Tanh())\n",
    "        \n",
    "        self.layers2 = nn.Sequential(\n",
    "            nn.Linear(500, 200), \n",
    "            nn.Dropout(0.5),\n",
    "            nn.Tanh())\n",
    "        \n",
    "        self.layers3 = nn.Sequential(\n",
    "            nn.Linear(200, 10), \n",
    "            nn.Softmax(dim=1))\n",
    "        \n",
    "    def forward(self, x):\n",
    "        x = x.view(x.size()[0], -1)\n",
    "        x = self.layers1(x)\n",
    "        x = self.layers2(x)\n",
    "        x = self.layers3(x)\n",
    "        return x"
   ]
  },
  {
   "cell_type": "code",
   "execution_count": 18,
   "id": "40a3cf52",
   "metadata": {},
   "outputs": [],
   "source": [
    "LR = 0.5\n",
    "model = Net_1()\n",
    "ce_loss = nn.CrossEntropyLoss()\n",
    "optimizer = optim.SGD(model.parameters(), LR)"
   ]
  },
  {
   "cell_type": "code",
   "execution_count": 21,
   "id": "b0582d3c",
   "metadata": {},
   "outputs": [],
   "source": [
    "def train():\n",
    "    # 模型的训练状态 dropout起作用\n",
    "    model.train()\n",
    "    for i, data in enumerate(train_loader):\n",
    "        inputs, labels = data\n",
    "        out = model(inputs)\n",
    "        loss = ce_loss(out, labels)\n",
    "        optimizer.zero_grad()\n",
    "        loss.backward()\n",
    "        optimizer.step()\n",
    "        \n",
    "def test():\n",
    "    # 测试状态 dropout不起作用\n",
    "    model.eval()\n",
    "    corrent = 0\n",
    "    for i, data in enumerate(test_loader):\n",
    "        inputs, labels = data\n",
    "        out = model(inputs)\n",
    "        # 返回最大值，及最大值的索引 1代表需要计算的维度\n",
    "        _, predict = torch.max(out, 1)\n",
    "        corrent += (predict == labels).sum(0)\n",
    "    print('Test acc {0}'.format(corrent.item()/len(test_dataset)))\n",
    "    \n",
    "    corrent = 0\n",
    "    for i, data in enumerate(train_loader):\n",
    "        inputs, labels = data\n",
    "        out = model(inputs)\n",
    "        # 返回最大值，及最大值的索引 1代表需要计算的维度\n",
    "        _, predict = torch.max(out, 1)\n",
    "        corrent += (predict == labels).sum(0)\n",
    "    print('Train acc {0}'.format(corrent.item()/len(train_dataset)))"
   ]
  },
  {
   "cell_type": "code",
   "execution_count": 22,
   "id": "2a68b09d",
   "metadata": {},
   "outputs": [
    {
     "name": "stdout",
     "output_type": "stream",
     "text": [
      "epoch  0\n",
      "Test acc 0.9359\n",
      "Train acc 0.9391\n",
      "epoch  1\n",
      "Test acc 0.9438\n",
      "Train acc 0.9439833333333333\n",
      "epoch  2\n",
      "Test acc 0.9452\n",
      "Train acc 0.9468833333333333\n",
      "epoch  3\n",
      "Test acc 0.9511\n",
      "Train acc 0.9556\n",
      "epoch  4\n",
      "Test acc 0.9536\n",
      "Train acc 0.9566833333333333\n",
      "epoch  5\n",
      "Test acc 0.9546\n",
      "Train acc 0.9606333333333333\n",
      "epoch  6\n",
      "Test acc 0.9551\n",
      "Train acc 0.9608333333333333\n",
      "epoch  7\n",
      "Test acc 0.9595\n",
      "Train acc 0.9641\n",
      "epoch  8\n",
      "Test acc 0.9587\n",
      "Train acc 0.9657833333333333\n",
      "epoch  9\n",
      "Test acc 0.9594\n",
      "Train acc 0.9673666666666667\n"
     ]
    }
   ],
   "source": [
    "for epoch in range(10):\n",
    "    print('epoch ',epoch)\n",
    "    train()\n",
    "    test()"
   ]
  },
  {
   "cell_type": "markdown",
   "id": "810ae5c0",
   "metadata": {},
   "source": [
    "### 正则化"
   ]
  },
  {
   "cell_type": "code",
   "execution_count": 23,
   "id": "4583e060",
   "metadata": {},
   "outputs": [],
   "source": [
    "LR = 0.5\n",
    "model = Net_1()\n",
    "ce_loss = nn.CrossEntropyLoss()\n",
    "# 设置L2正则参数\n",
    "optimizer = optim.SGD(model.parameters(), LR, weight_decay=0.001)"
   ]
  },
  {
   "cell_type": "code",
   "execution_count": 24,
   "id": "3517fc87",
   "metadata": {},
   "outputs": [
    {
     "name": "stdout",
     "output_type": "stream",
     "text": [
      "epoch  0\n",
      "Test acc 0.9063\n",
      "Train acc 0.9032166666666667\n",
      "epoch  1\n",
      "Test acc 0.9182\n",
      "Train acc 0.9152333333333333\n",
      "epoch  2\n",
      "Test acc 0.9262\n",
      "Train acc 0.9241833333333334\n",
      "epoch  3\n",
      "Test acc 0.9095\n",
      "Train acc 0.9123333333333333\n",
      "epoch  4\n",
      "Test acc 0.9226\n",
      "Train acc 0.92465\n",
      "epoch  5\n",
      "Test acc 0.9242\n",
      "Train acc 0.9233\n",
      "epoch  6\n",
      "Test acc 0.9337\n",
      "Train acc 0.9339666666666666\n",
      "epoch  7\n",
      "Test acc 0.9294\n",
      "Train acc 0.9296666666666666\n",
      "epoch  8\n",
      "Test acc 0.9096\n",
      "Train acc 0.9101666666666667\n",
      "epoch  9\n",
      "Test acc 0.9282\n",
      "Train acc 0.9291166666666667\n"
     ]
    }
   ],
   "source": [
    "for epoch in range(10):\n",
    "    print('epoch ',epoch)\n",
    "    train()\n",
    "    test()"
   ]
  },
  {
   "cell_type": "markdown",
   "id": "e5402e08",
   "metadata": {},
   "source": [
    "可以看到用了正则化反而正确率不是很高了"
   ]
  },
  {
   "cell_type": "markdown",
   "id": "c1047f1e",
   "metadata": {},
   "source": [
    "#### 不同的优化器"
   ]
  },
  {
   "cell_type": "code",
   "execution_count": 25,
   "id": "07e35363",
   "metadata": {},
   "outputs": [],
   "source": [
    "LR = 0.001\n",
    "model = Net_1()\n",
    "ce_loss = nn.CrossEntropyLoss()\n",
    "# 设置L2正则参数\n",
    "optimizer = optim.Adam(model.parameters(), LR)"
   ]
  },
  {
   "cell_type": "code",
   "execution_count": 26,
   "id": "c5e07d28",
   "metadata": {},
   "outputs": [
    {
     "name": "stdout",
     "output_type": "stream",
     "text": [
      "epoch  0\n",
      "Test acc 0.9259\n",
      "Train acc 0.9299833333333334\n",
      "epoch  1\n",
      "Test acc 0.9436\n",
      "Train acc 0.94675\n",
      "epoch  2\n",
      "Test acc 0.9521\n",
      "Train acc 0.9563166666666667\n",
      "epoch  3\n",
      "Test acc 0.9569\n",
      "Train acc 0.9600833333333333\n",
      "epoch  4\n",
      "Test acc 0.9584\n",
      "Train acc 0.9629666666666666\n",
      "epoch  5\n",
      "Test acc 0.9616\n",
      "Train acc 0.9665333333333334\n",
      "epoch  6\n",
      "Test acc 0.9631\n",
      "Train acc 0.968\n",
      "epoch  7\n",
      "Test acc 0.9654\n",
      "Train acc 0.9704666666666667\n",
      "epoch  8\n",
      "Test acc 0.9632\n",
      "Train acc 0.9701833333333333\n",
      "epoch  9\n",
      "Test acc 0.9653\n",
      "Train acc 0.9721666666666666\n"
     ]
    }
   ],
   "source": [
    "for epoch in range(10):\n",
    "    print('epoch ',epoch)\n",
    "    train()\n",
    "    test()"
   ]
  }
 ],
 "metadata": {
  "kernelspec": {
   "display_name": "Python 3 (ipykernel)",
   "language": "python",
   "name": "python3"
  },
  "language_info": {
   "codemirror_mode": {
    "name": "ipython",
    "version": 3
   },
   "file_extension": ".py",
   "mimetype": "text/x-python",
   "name": "python",
   "nbconvert_exporter": "python",
   "pygments_lexer": "ipython3",
   "version": "3.8.2"
  }
 },
 "nbformat": 4,
 "nbformat_minor": 5
}
