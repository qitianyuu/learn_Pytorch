{
 "cells": [
  {
   "cell_type": "markdown",
   "id": "9b64db8e",
   "metadata": {},
   "source": [
    "## Mnist"
   ]
  },
  {
   "cell_type": "code",
   "execution_count": 1,
   "id": "67699748",
   "metadata": {},
   "outputs": [],
   "source": [
    "import numpy as np\n",
    "import torch\n",
    "import matplotlib.pyplot as plt\n",
    "from torch import nn, optim\n",
    "from torch.autograd import Variable\n",
    "from torchvision import datasets, transforms\n",
    "from torch.utils.data import DataLoader"
   ]
  },
  {
   "cell_type": "code",
   "execution_count": 2,
   "id": "a135642d",
   "metadata": {},
   "outputs": [],
   "source": [
    "train_dataset = datasets.MNIST(root='/Users/qi/Documents/cood/ML/dataBase/', \n",
    "                               train=True,\n",
    "                               transform = transforms.ToTensor(),\n",
    "                               download=True)\n",
    "\n",
    "test_dataset = datasets.MNIST(root='/Users/qi/Documents/cood/ML/dataBase/', \n",
    "                               train=False,\n",
    "                               transform = transforms.ToTensor(),\n",
    "                               download=True)"
   ]
  },
  {
   "cell_type": "code",
   "execution_count": 3,
   "id": "f7eb37e5",
   "metadata": {},
   "outputs": [],
   "source": [
    "batch_size = 64"
   ]
  },
  {
   "cell_type": "code",
   "execution_count": 4,
   "id": "867ecfad",
   "metadata": {},
   "outputs": [],
   "source": [
    "train_loader = DataLoader(dataset=train_dataset, \n",
    "                          batch_size = batch_size,\n",
    "                          shuffle=True)\n",
    "\n",
    "test_loader = DataLoader(dataset=test_dataset, \n",
    "                         batch_size = batch_size,\n",
    "                         shuffle=True)"
   ]
  },
  {
   "cell_type": "markdown",
   "id": "076832b1",
   "metadata": {},
   "source": [
    "### 定义网络结构"
   ]
  },
  {
   "cell_type": "code",
   "execution_count": 5,
   "id": "714c53a6",
   "metadata": {},
   "outputs": [],
   "source": [
    "class Net(nn.Module):\n",
    "    def __init__(self):\n",
    "        super(Net, self).__init__()\n",
    "        self.fc1 = nn.Linear(784, 10)\n",
    "        # 64，10 dim=1 代表着用第一个维度进行 softmax 转换，即 10\n",
    "        self.softmax = nn.Softmax(dim=1)\n",
    "        \n",
    "        \n",
    "    def forward(self, x):\n",
    "        x = x.view(x.size()[0], -1)\n",
    "        x = self.fc1(x)\n",
    "        x = self.softmax(x)\n",
    "        return x"
   ]
  },
  {
   "cell_type": "code",
   "execution_count": 6,
   "id": "e2f97acd",
   "metadata": {},
   "outputs": [],
   "source": [
    "LR = 0.5\n",
    "model = Net()\n",
    "mse_loss = nn.MSELoss()\n",
    "optimizer = optim.SGD(model.parameters(), LR)"
   ]
  },
  {
   "cell_type": "code",
   "execution_count": 7,
   "id": "aedbd166",
   "metadata": {},
   "outputs": [],
   "source": [
    "def train():\n",
    "    for i, data in enumerate(train_loader):\n",
    "        inputs, labels = data\n",
    "        # 独热编码\n",
    "        labels = labels.reshape(-1,1)\n",
    "        # tensor.scatter(dim, index, src)\n",
    "        # dim 对哪个维度进行独热编码\n",
    "        # index 要将 src 中的值放到 tensor 的哪个位置\n",
    "        # src 插入 index 的数值\n",
    "        one_hot = torch.zeros(inputs.shape[0],10).scatter(1, labels, 1)\n",
    "        out = model(inputs)\n",
    "        # 这两个数值的维度要保持一致\n",
    "        loss = mse_loss(out, one_hot)\n",
    "        optimizer.zero_grad()\n",
    "        loss.backward()\n",
    "        optimizer.step()"
   ]
  },
  {
   "cell_type": "code",
   "execution_count": 8,
   "id": "c04a373c",
   "metadata": {},
   "outputs": [],
   "source": [
    "def test():\n",
    "    corrent = 0\n",
    "    for i, data in enumerate(test_loader):\n",
    "        inputs, labels = data\n",
    "        out = model(inputs)\n",
    "        # 返回最大值，及最大值的索引 1代表需要计算的维度\n",
    "        _, predict = torch.max(out, 1)\n",
    "        corrent += (predict == labels).sum(0)\n",
    "    print('Test acc {0}'.format(corrent.item()/len(test_dataset)))"
   ]
  },
  {
   "cell_type": "code",
   "execution_count": 9,
   "id": "f251d894",
   "metadata": {},
   "outputs": [
    {
     "name": "stdout",
     "output_type": "stream",
     "text": [
      "epoch  0\n",
      "Test acc 0.8886\n",
      "epoch  1\n",
      "Test acc 0.9014\n",
      "epoch  2\n",
      "Test acc 0.9085\n",
      "epoch  3\n",
      "Test acc 0.9122\n",
      "epoch  4\n",
      "Test acc 0.9141\n",
      "epoch  5\n",
      "Test acc 0.9154\n",
      "epoch  6\n",
      "Test acc 0.9171\n",
      "epoch  7\n",
      "Test acc 0.9188\n",
      "epoch  8\n",
      "Test acc 0.9191\n",
      "epoch  9\n",
      "Test acc 0.9207\n"
     ]
    }
   ],
   "source": [
    "for epoch in range(10):\n",
    "    print('epoch ',epoch)\n",
    "    train()\n",
    "    test()"
   ]
  }
 ],
 "metadata": {
  "kernelspec": {
   "display_name": "Python 3 (ipykernel)",
   "language": "python",
   "name": "python3"
  },
  "language_info": {
   "codemirror_mode": {
    "name": "ipython",
    "version": 3
   },
   "file_extension": ".py",
   "mimetype": "text/x-python",
   "name": "python",
   "nbconvert_exporter": "python",
   "pygments_lexer": "ipython3",
   "version": "3.8.2"
  }
 },
 "nbformat": 4,
 "nbformat_minor": 5
}
