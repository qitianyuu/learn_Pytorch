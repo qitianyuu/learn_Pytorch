{
 "cells": [
  {
   "cell_type": "markdown",
   "id": "2f015585",
   "metadata": {},
   "source": [
    "## Tensor"
   ]
  },
  {
   "cell_type": "code",
   "execution_count": 1,
   "id": "b169fd1f",
   "metadata": {},
   "outputs": [],
   "source": [
    "import numpy as np\n",
    "import torch\n",
    "import matplotlib.pyplot as plt\n",
    "from torch import nn, optim\n",
    "from torch.autograd import Variable\n",
    "import warnings"
   ]
  },
  {
   "cell_type": "code",
   "execution_count": 2,
   "id": "684a8a1c",
   "metadata": {},
   "outputs": [],
   "source": [
    "warnings.filterwarnings('ignore')"
   ]
  },
  {
   "cell_type": "code",
   "execution_count": 3,
   "id": "91329290",
   "metadata": {},
   "outputs": [],
   "source": [
    "a = torch.tensor([1,2,3], dtype=int)"
   ]
  },
  {
   "cell_type": "code",
   "execution_count": 4,
   "id": "b698e142",
   "metadata": {},
   "outputs": [
    {
     "data": {
      "text/plain": [
       "tensor([1, 2, 3])"
      ]
     },
     "execution_count": 4,
     "metadata": {},
     "output_type": "execute_result"
    }
   ],
   "source": [
    "a"
   ]
  },
  {
   "cell_type": "code",
   "execution_count": 5,
   "id": "146567c9",
   "metadata": {},
   "outputs": [
    {
     "data": {
      "text/plain": [
       "torch.int64"
      ]
     },
     "execution_count": 5,
     "metadata": {},
     "output_type": "execute_result"
    }
   ],
   "source": [
    "a.dtype"
   ]
  },
  {
   "cell_type": "code",
   "execution_count": 6,
   "id": "e73271fd",
   "metadata": {},
   "outputs": [],
   "source": [
    "b = torch.tensor([4,5,6], dtype=float)"
   ]
  },
  {
   "cell_type": "code",
   "execution_count": 7,
   "id": "3ebf0a76",
   "metadata": {},
   "outputs": [
    {
     "data": {
      "text/plain": [
       "tensor([4., 5., 6.], dtype=torch.float64)"
      ]
     },
     "execution_count": 7,
     "metadata": {},
     "output_type": "execute_result"
    }
   ],
   "source": [
    "b"
   ]
  },
  {
   "cell_type": "code",
   "execution_count": 8,
   "id": "9c9dc5f0",
   "metadata": {},
   "outputs": [],
   "source": [
    "c = torch.tensor([[1,2,3], [4,5,6]])"
   ]
  },
  {
   "cell_type": "code",
   "execution_count": 9,
   "id": "4f9366a7",
   "metadata": {},
   "outputs": [
    {
     "data": {
      "text/plain": [
       "tensor([[1, 2, 3],\n",
       "        [4, 5, 6]])"
      ]
     },
     "execution_count": 9,
     "metadata": {},
     "output_type": "execute_result"
    }
   ],
   "source": [
    "c"
   ]
  },
  {
   "cell_type": "markdown",
   "id": "2408b8d8",
   "metadata": {},
   "source": [
    "形状"
   ]
  },
  {
   "cell_type": "code",
   "execution_count": 10,
   "id": "f9e9bcc6",
   "metadata": {},
   "outputs": [
    {
     "data": {
      "text/plain": [
       "torch.Size([2, 3])"
      ]
     },
     "execution_count": 10,
     "metadata": {},
     "output_type": "execute_result"
    }
   ],
   "source": [
    "c.shape"
   ]
  },
  {
   "cell_type": "code",
   "execution_count": 11,
   "id": "d5a78544",
   "metadata": {},
   "outputs": [
    {
     "data": {
      "text/plain": [
       "torch.Size([2, 3])"
      ]
     },
     "execution_count": 11,
     "metadata": {},
     "output_type": "execute_result"
    }
   ],
   "source": [
    "c.size()"
   ]
  },
  {
   "cell_type": "markdown",
   "id": "ec383405",
   "metadata": {},
   "source": [
    "维度"
   ]
  },
  {
   "cell_type": "code",
   "execution_count": 12,
   "id": "1d6ce693",
   "metadata": {},
   "outputs": [
    {
     "data": {
      "text/plain": [
       "2"
      ]
     },
     "execution_count": 12,
     "metadata": {},
     "output_type": "execute_result"
    }
   ],
   "source": [
    "c.ndim"
   ]
  },
  {
   "cell_type": "markdown",
   "id": "6e05b0bb",
   "metadata": {},
   "source": [
    "### 数据生成\n",
    "生成权重为1矩阵"
   ]
  },
  {
   "cell_type": "code",
   "execution_count": 13,
   "id": "2e5ebdaf",
   "metadata": {},
   "outputs": [
    {
     "data": {
      "text/plain": [
       "tensor([[1., 1., 1.],\n",
       "        [1., 1., 1.]])"
      ]
     },
     "execution_count": 13,
     "metadata": {},
     "output_type": "execute_result"
    }
   ],
   "source": [
    "torch.ones(2,3)"
   ]
  },
  {
   "cell_type": "markdown",
   "id": "0fb53b9e",
   "metadata": {},
   "source": [
    "生成权重为0矩阵"
   ]
  },
  {
   "cell_type": "code",
   "execution_count": 14,
   "id": "bae4a569",
   "metadata": {},
   "outputs": [
    {
     "data": {
      "text/plain": [
       "tensor([[0., 0., 0.],\n",
       "        [0., 0., 0.]])"
      ]
     },
     "execution_count": 14,
     "metadata": {},
     "output_type": "execute_result"
    }
   ],
   "source": [
    "torch.zeros(2,3)"
   ]
  },
  {
   "cell_type": "markdown",
   "id": "52f6a94f",
   "metadata": {},
   "source": [
    "生成权重为任意数值的矩阵"
   ]
  },
  {
   "cell_type": "code",
   "execution_count": 15,
   "id": "0cc324ec",
   "metadata": {},
   "outputs": [
    {
     "data": {
      "text/plain": [
       "tensor([[0.1952, 0.8062, 0.8930, 0.1670],\n",
       "        [0.7356, 0.8582, 0.2442, 0.5616],\n",
       "        [0.4158, 0.9806, 0.8638, 0.7810]])"
      ]
     },
     "execution_count": 15,
     "metadata": {},
     "output_type": "execute_result"
    }
   ],
   "source": [
    "torch.rand(3,4)"
   ]
  },
  {
   "cell_type": "markdown",
   "id": "b165c5cf",
   "metadata": {},
   "source": [
    "生成随机整数的矩阵"
   ]
  },
  {
   "cell_type": "code",
   "execution_count": 16,
   "id": "b4a1308d",
   "metadata": {},
   "outputs": [
    {
     "data": {
      "text/plain": [
       "tensor([[6, 6, 9],\n",
       "        [9, 3, 4]])"
      ]
     },
     "execution_count": 16,
     "metadata": {},
     "output_type": "execute_result"
    }
   ],
   "source": [
    "torch.randint(0,10,(2,3))"
   ]
  },
  {
   "cell_type": "markdown",
   "id": "b686a777",
   "metadata": {},
   "source": [
    "生成符合标准正态分布的矩阵"
   ]
  },
  {
   "cell_type": "code",
   "execution_count": 17,
   "id": "401b9fcb",
   "metadata": {},
   "outputs": [
    {
     "data": {
      "text/plain": [
       "tensor([[ 0.1767,  1.2047,  0.9073, -1.0490],\n",
       "        [-1.4241,  1.3643,  0.5162, -0.4709],\n",
       "        [ 0.0731,  1.2157, -1.9783, -0.3737]])"
      ]
     },
     "execution_count": 17,
     "metadata": {},
     "output_type": "execute_result"
    }
   ],
   "source": [
    "torch.randn(3,4)"
   ]
  },
  {
   "cell_type": "markdown",
   "id": "a6bfb18c",
   "metadata": {},
   "source": [
    "生成形状相同的矩阵"
   ]
  },
  {
   "cell_type": "code",
   "execution_count": 18,
   "id": "dcd9b975",
   "metadata": {},
   "outputs": [
    {
     "data": {
      "text/plain": [
       "tensor([[0.2065, 0.2495],\n",
       "        [0.9404, 0.2873],\n",
       "        [0.5936, 0.7605]], dtype=torch.float64)"
      ]
     },
     "execution_count": 18,
     "metadata": {},
     "output_type": "execute_result"
    }
   ],
   "source": [
    "a = torch.tensor([[1,2],[3,4],[5,6]])\n",
    "b = torch.rand_like(a, dtype=float)\n",
    "b"
   ]
  },
  {
   "cell_type": "markdown",
   "id": "f80f7c7e",
   "metadata": {},
   "source": [
    "修改数据形状"
   ]
  },
  {
   "cell_type": "code",
   "execution_count": 19,
   "id": "d6623b36",
   "metadata": {},
   "outputs": [
    {
     "data": {
      "text/plain": [
       "tensor([0.2065, 0.2495, 0.9404, 0.2873, 0.5936, 0.7605], dtype=torch.float64)"
      ]
     },
     "execution_count": 19,
     "metadata": {},
     "output_type": "execute_result"
    }
   ],
   "source": [
    "c = b.view(6)\n",
    "c"
   ]
  },
  {
   "cell_type": "code",
   "execution_count": 20,
   "id": "67e29d25",
   "metadata": {},
   "outputs": [
    {
     "data": {
      "text/plain": [
       "tensor([[0.2065, 0.2495, 0.9404],\n",
       "        [0.2873, 0.5936, 0.7605]], dtype=torch.float64)"
      ]
     },
     "execution_count": 20,
     "metadata": {},
     "output_type": "execute_result"
    }
   ],
   "source": [
    "d = c.view(2,3)\n",
    "d"
   ]
  },
  {
   "cell_type": "markdown",
   "id": "d6e5a6d6",
   "metadata": {},
   "source": [
    "tensor -> python number"
   ]
  },
  {
   "cell_type": "code",
   "execution_count": 21,
   "id": "efe7d09a",
   "metadata": {},
   "outputs": [
    {
     "data": {
      "text/plain": [
       "tensor(0.9404, dtype=torch.float64)"
      ]
     },
     "execution_count": 21,
     "metadata": {},
     "output_type": "execute_result"
    }
   ],
   "source": [
    "c[2]"
   ]
  },
  {
   "cell_type": "code",
   "execution_count": 22,
   "id": "4b75f9de",
   "metadata": {},
   "outputs": [
    {
     "data": {
      "text/plain": [
       "0.9403929082492163"
      ]
     },
     "execution_count": 22,
     "metadata": {},
     "output_type": "execute_result"
    }
   ],
   "source": [
    "c[2].item()"
   ]
  },
  {
   "cell_type": "code",
   "execution_count": 23,
   "id": "739b3758",
   "metadata": {},
   "outputs": [
    {
     "data": {
      "text/plain": [
       "array([0.20648057, 0.24950592, 0.94039291, 0.28731879, 0.59359783,\n",
       "       0.76053577])"
      ]
     },
     "execution_count": 23,
     "metadata": {},
     "output_type": "execute_result"
    }
   ],
   "source": [
    "np.array(c)"
   ]
  },
  {
   "cell_type": "markdown",
   "id": "bafcb397",
   "metadata": {},
   "source": [
    "python number -> tensor"
   ]
  },
  {
   "cell_type": "code",
   "execution_count": 24,
   "id": "fbf3ef06",
   "metadata": {},
   "outputs": [
    {
     "data": {
      "text/plain": [
       "array([1, 2, 3])"
      ]
     },
     "execution_count": 24,
     "metadata": {},
     "output_type": "execute_result"
    }
   ],
   "source": [
    "array = np.array([1,2,3])\n",
    "array"
   ]
  },
  {
   "cell_type": "code",
   "execution_count": 25,
   "id": "5dd470e8",
   "metadata": {},
   "outputs": [
    {
     "data": {
      "text/plain": [
       "tensor([1, 2, 3])"
      ]
     },
     "execution_count": 25,
     "metadata": {},
     "output_type": "execute_result"
    }
   ],
   "source": [
    "tensor = torch.tensor(array)\n",
    "tensor"
   ]
  },
  {
   "cell_type": "markdown",
   "id": "90427885",
   "metadata": {},
   "source": [
    "### 基本运算操作"
   ]
  },
  {
   "cell_type": "code",
   "execution_count": 26,
   "id": "48cc2098",
   "metadata": {},
   "outputs": [
    {
     "name": "stdout",
     "output_type": "stream",
     "text": [
      "tensor([[4, 4, 3],\n",
      "        [4, 3, 1]])\n",
      "tensor([[1, 1, 3],\n",
      "        [3, 3, 3]])\n"
     ]
    }
   ],
   "source": [
    "a = torch.randint(1,5,(2,3))\n",
    "b = torch.randint(1,5,(2,3))\n",
    "print(a)\n",
    "print(b)"
   ]
  },
  {
   "cell_type": "markdown",
   "id": "1b859e6d",
   "metadata": {},
   "source": [
    "加法"
   ]
  },
  {
   "cell_type": "code",
   "execution_count": 27,
   "id": "d4973abc",
   "metadata": {},
   "outputs": [
    {
     "data": {
      "text/plain": [
       "tensor([[5, 5, 6],\n",
       "        [7, 6, 4]])"
      ]
     },
     "execution_count": 27,
     "metadata": {},
     "output_type": "execute_result"
    }
   ],
   "source": [
    "a+b"
   ]
  },
  {
   "cell_type": "code",
   "execution_count": 28,
   "id": "f7c1cb5e",
   "metadata": {},
   "outputs": [
    {
     "data": {
      "text/plain": [
       "tensor([[5, 5, 6],\n",
       "        [7, 6, 4]])"
      ]
     },
     "execution_count": 28,
     "metadata": {},
     "output_type": "execute_result"
    }
   ],
   "source": [
    "torch.add(a,b)"
   ]
  },
  {
   "cell_type": "code",
   "execution_count": 29,
   "id": "e72fb8c9",
   "metadata": {},
   "outputs": [
    {
     "data": {
      "text/plain": [
       "tensor([[5., 5., 6.],\n",
       "        [7., 6., 4.]])"
      ]
     },
     "execution_count": 29,
     "metadata": {},
     "output_type": "execute_result"
    }
   ],
   "source": [
    "result = torch.zeros(2,3)\n",
    "torch.add(a,b,out=result)\n",
    "result"
   ]
  },
  {
   "cell_type": "markdown",
   "id": "a734da3c",
   "metadata": {},
   "source": [
    "任何使张量 tensor 发生变化的操作都有一个下划线前缀\n",
    "- a.add_()\n",
    "- b.sub_()"
   ]
  },
  {
   "cell_type": "code",
   "execution_count": 30,
   "id": "822a3674",
   "metadata": {},
   "outputs": [
    {
     "data": {
      "text/plain": [
       "tensor([[5, 5, 6],\n",
       "        [7, 6, 4]])"
      ]
     },
     "execution_count": 30,
     "metadata": {},
     "output_type": "execute_result"
    }
   ],
   "source": [
    "a.add_(b)"
   ]
  },
  {
   "cell_type": "markdown",
   "id": "5f714441",
   "metadata": {},
   "source": [
    "减法"
   ]
  },
  {
   "cell_type": "code",
   "execution_count": 31,
   "id": "47c987d4",
   "metadata": {},
   "outputs": [
    {
     "name": "stdout",
     "output_type": "stream",
     "text": [
      "tensor([[3, 3, 3],\n",
      "        [1, 1, 3]])\n",
      "tensor([[1, 1, 2],\n",
      "        [3, 2, 4]])\n"
     ]
    }
   ],
   "source": [
    "a = torch.randint(1,5,(2,3))\n",
    "b = torch.randint(1,5,(2,3))\n",
    "print(a)\n",
    "print(b)"
   ]
  },
  {
   "cell_type": "code",
   "execution_count": 32,
   "id": "a659de7e",
   "metadata": {},
   "outputs": [
    {
     "data": {
      "text/plain": [
       "tensor([[ 2,  2,  1],\n",
       "        [-2, -1, -1]])"
      ]
     },
     "execution_count": 32,
     "metadata": {},
     "output_type": "execute_result"
    }
   ],
   "source": [
    "a-b"
   ]
  },
  {
   "cell_type": "markdown",
   "id": "dc5419ba",
   "metadata": {},
   "source": [
    "乘法，对应位置相乘，两者形状必须相同"
   ]
  },
  {
   "cell_type": "code",
   "execution_count": 33,
   "id": "30beb2fd",
   "metadata": {},
   "outputs": [
    {
     "data": {
      "text/plain": [
       "tensor([[ 3,  3,  6],\n",
       "        [ 3,  2, 12]])"
      ]
     },
     "execution_count": 33,
     "metadata": {},
     "output_type": "execute_result"
    }
   ],
   "source": [
    "a * b"
   ]
  },
  {
   "cell_type": "markdown",
   "id": "b7ff1548",
   "metadata": {},
   "source": [
    "取余"
   ]
  },
  {
   "cell_type": "code",
   "execution_count": 34,
   "id": "bbfa9003",
   "metadata": {},
   "outputs": [
    {
     "data": {
      "text/plain": [
       "tensor([[0, 0, 1],\n",
       "        [1, 1, 3]])"
      ]
     },
     "execution_count": 34,
     "metadata": {},
     "output_type": "execute_result"
    }
   ],
   "source": [
    "a % b"
   ]
  },
  {
   "cell_type": "markdown",
   "id": "a221364f",
   "metadata": {},
   "source": [
    "取整"
   ]
  },
  {
   "cell_type": "code",
   "execution_count": 35,
   "id": "138884ce",
   "metadata": {},
   "outputs": [
    {
     "data": {
      "text/plain": [
       "tensor([[3, 3, 1],\n",
       "        [0, 0, 0]])"
      ]
     },
     "execution_count": 35,
     "metadata": {},
     "output_type": "execute_result"
    }
   ],
   "source": [
    "a // b"
   ]
  },
  {
   "cell_type": "markdown",
   "id": "1e10484e",
   "metadata": {},
   "source": [
    "矩阵乘法"
   ]
  },
  {
   "cell_type": "code",
   "execution_count": 36,
   "id": "266ce396",
   "metadata": {},
   "outputs": [
    {
     "name": "stdout",
     "output_type": "stream",
     "text": [
      "tensor([[4, 4, 4],\n",
      "        [3, 4, 1]])\n",
      "tensor([[4, 2, 1, 2, 2],\n",
      "        [3, 2, 1, 3, 3],\n",
      "        [1, 2, 4, 1, 1]])\n"
     ]
    }
   ],
   "source": [
    "a = torch.randint(1,5,(2,3))\n",
    "b = torch.randint(1,5,(3,5))\n",
    "print(a)\n",
    "print(b)"
   ]
  },
  {
   "cell_type": "code",
   "execution_count": 37,
   "id": "5e86ffe9",
   "metadata": {},
   "outputs": [
    {
     "data": {
      "text/plain": [
       "tensor([[32, 24, 24, 24, 24],\n",
       "        [25, 16, 11, 19, 19]])"
      ]
     },
     "execution_count": 37,
     "metadata": {},
     "output_type": "execute_result"
    }
   ],
   "source": [
    "c = torch.matmul(a, b)\n",
    "c"
   ]
  },
  {
   "cell_type": "markdown",
   "id": "86e7f200",
   "metadata": {},
   "source": [
    "转秩"
   ]
  },
  {
   "cell_type": "code",
   "execution_count": 38,
   "id": "b3771ae2",
   "metadata": {},
   "outputs": [
    {
     "data": {
      "text/plain": [
       "tensor([[32, 25],\n",
       "        [24, 16],\n",
       "        [24, 11],\n",
       "        [24, 19],\n",
       "        [24, 19]])"
      ]
     },
     "execution_count": 38,
     "metadata": {},
     "output_type": "execute_result"
    }
   ],
   "source": [
    "c.T"
   ]
  },
  {
   "cell_type": "code",
   "execution_count": 39,
   "id": "aad0ff33",
   "metadata": {},
   "outputs": [
    {
     "data": {
      "text/plain": [
       "tensor([[32, 24, 24, 24, 24],\n",
       "        [25, 16, 11, 19, 19]])"
      ]
     },
     "execution_count": 39,
     "metadata": {},
     "output_type": "execute_result"
    }
   ],
   "source": [
    "c"
   ]
  },
  {
   "cell_type": "markdown",
   "id": "d46fd895",
   "metadata": {},
   "source": [
    "求和"
   ]
  },
  {
   "cell_type": "code",
   "execution_count": 40,
   "id": "8c2f1c64",
   "metadata": {},
   "outputs": [
    {
     "data": {
      "text/plain": [
       "tensor(218)"
      ]
     },
     "execution_count": 40,
     "metadata": {},
     "output_type": "execute_result"
    }
   ],
   "source": [
    "torch.sum(c)"
   ]
  },
  {
   "cell_type": "markdown",
   "id": "9db1321f",
   "metadata": {},
   "source": [
    "最大最小"
   ]
  },
  {
   "cell_type": "code",
   "execution_count": 41,
   "id": "5cd5d38b",
   "metadata": {},
   "outputs": [
    {
     "data": {
      "text/plain": [
       "tensor(32)"
      ]
     },
     "execution_count": 41,
     "metadata": {},
     "output_type": "execute_result"
    }
   ],
   "source": [
    "torch.max(c)"
   ]
  },
  {
   "cell_type": "code",
   "execution_count": 42,
   "id": "7f11b60e",
   "metadata": {},
   "outputs": [
    {
     "data": {
      "text/plain": [
       "tensor(11)"
      ]
     },
     "execution_count": 42,
     "metadata": {},
     "output_type": "execute_result"
    }
   ],
   "source": [
    "torch.min(c)"
   ]
  },
  {
   "cell_type": "markdown",
   "id": "764e269f",
   "metadata": {},
   "source": [
    "最大最小所在的位置"
   ]
  },
  {
   "cell_type": "code",
   "execution_count": 43,
   "id": "c72abdff",
   "metadata": {},
   "outputs": [
    {
     "data": {
      "text/plain": [
       "tensor(0)"
      ]
     },
     "execution_count": 43,
     "metadata": {},
     "output_type": "execute_result"
    }
   ],
   "source": [
    "torch.argmax(c)"
   ]
  },
  {
   "cell_type": "code",
   "execution_count": 44,
   "id": "4dde5957",
   "metadata": {},
   "outputs": [
    {
     "data": {
      "text/plain": [
       "tensor(7)"
      ]
     },
     "execution_count": 44,
     "metadata": {},
     "output_type": "execute_result"
    }
   ],
   "source": [
    "torch.argmin(c)"
   ]
  },
  {
   "cell_type": "markdown",
   "id": "024215c6",
   "metadata": {},
   "source": [
    "均值"
   ]
  },
  {
   "cell_type": "code",
   "execution_count": 45,
   "id": "eb765a15",
   "metadata": {},
   "outputs": [
    {
     "data": {
      "text/plain": [
       "tensor(21.8000)"
      ]
     },
     "execution_count": 45,
     "metadata": {},
     "output_type": "execute_result"
    }
   ],
   "source": [
    "torch.mean(c.float())"
   ]
  },
  {
   "cell_type": "markdown",
   "id": "e92d485d",
   "metadata": {},
   "source": [
    "中位数"
   ]
  },
  {
   "cell_type": "code",
   "execution_count": 46,
   "id": "17cbb1d8",
   "metadata": {},
   "outputs": [
    {
     "data": {
      "text/plain": [
       "tensor(24)"
      ]
     },
     "execution_count": 46,
     "metadata": {},
     "output_type": "execute_result"
    }
   ],
   "source": [
    "torch.median(c)"
   ]
  },
  {
   "cell_type": "markdown",
   "id": "8dd8161a",
   "metadata": {},
   "source": [
    "平方"
   ]
  },
  {
   "cell_type": "code",
   "execution_count": 47,
   "id": "2cec1f13",
   "metadata": {},
   "outputs": [
    {
     "data": {
      "text/plain": [
       "tensor([[1024,  576,  576,  576,  576],\n",
       "        [ 625,  256,  121,  361,  361]])"
      ]
     },
     "execution_count": 47,
     "metadata": {},
     "output_type": "execute_result"
    }
   ],
   "source": [
    "c ** 2"
   ]
  },
  {
   "cell_type": "markdown",
   "id": "8091006f",
   "metadata": {},
   "source": [
    "开方"
   ]
  },
  {
   "cell_type": "code",
   "execution_count": 48,
   "id": "627d60f5",
   "metadata": {},
   "outputs": [
    {
     "data": {
      "text/plain": [
       "tensor([[5.6569, 4.8990, 4.8990, 4.8990, 4.8990],\n",
       "        [5.0000, 4.0000, 3.3166, 4.3589, 4.3589]])"
      ]
     },
     "execution_count": 48,
     "metadata": {},
     "output_type": "execute_result"
    }
   ],
   "source": [
    "torch.sqrt(c)"
   ]
  },
  {
   "cell_type": "markdown",
   "id": "247a28b5",
   "metadata": {},
   "source": [
    "### 自动求导"
   ]
  },
  {
   "cell_type": "code",
   "execution_count": 49,
   "id": "05e09819",
   "metadata": {},
   "outputs": [
    {
     "data": {
      "text/plain": [
       "tensor([[1., 1.],\n",
       "        [1., 1.]], requires_grad=True)"
      ]
     },
     "execution_count": 49,
     "metadata": {},
     "output_type": "execute_result"
    }
   ],
   "source": [
    "x = torch.ones((2,2), requires_grad=True)\n",
    "x"
   ]
  },
  {
   "attachments": {},
   "cell_type": "markdown",
   "id": "e5684dd1",
   "metadata": {},
   "source": [
    "$$y = 3(x+2)^2 $$\n",
    "反向传播 $$y' = \\frac{3}{2}(x+2)$$ 不是乘2而是除2，因为反向"
   ]
  },
  {
   "cell_type": "code",
   "execution_count": 50,
   "id": "456d2627",
   "metadata": {},
   "outputs": [
    {
     "data": {
      "text/plain": [
       "tensor([[27., 27.],\n",
       "        [27., 27.]], grad_fn=<MulBackward0>)"
      ]
     },
     "execution_count": 50,
     "metadata": {},
     "output_type": "execute_result"
    }
   ],
   "source": [
    "y = 3 *  (x + 2) **2\n",
    "y"
   ]
  },
  {
   "cell_type": "code",
   "execution_count": 51,
   "id": "e181a831",
   "metadata": {},
   "outputs": [],
   "source": [
    "out = y.mean()\n",
    "out.backward()"
   ]
  },
  {
   "cell_type": "code",
   "execution_count": 52,
   "id": "2f8826fa",
   "metadata": {},
   "outputs": [
    {
     "name": "stdout",
     "output_type": "stream",
     "text": [
      "tensor([[4.5000, 4.5000],\n",
      "        [4.5000, 4.5000]])\n"
     ]
    }
   ],
   "source": [
    "print(x.grad)"
   ]
  },
  {
   "cell_type": "code",
   "execution_count": 53,
   "id": "59388fac",
   "metadata": {},
   "outputs": [
    {
     "data": {
      "text/plain": [
       "tensor([[1., 1.],\n",
       "        [1., 1.]], dtype=torch.float64, requires_grad=True)"
      ]
     },
     "execution_count": 53,
     "metadata": {},
     "output_type": "execute_result"
    }
   ],
   "source": [
    "x1 = torch.tensor([[1,1],[1,1]], requires_grad=True, dtype=float)\n",
    "x1"
   ]
  },
  {
   "cell_type": "code",
   "execution_count": 54,
   "id": "9bcd112f",
   "metadata": {},
   "outputs": [
    {
     "data": {
      "text/plain": [
       "tensor([[1., 1.],\n",
       "        [1., 1.]], dtype=torch.float64, grad_fn=<PowBackward0>)"
      ]
     },
     "execution_count": 54,
     "metadata": {},
     "output_type": "execute_result"
    }
   ],
   "source": [
    "z1 = torch.pow(x1,2)\n",
    "z1"
   ]
  },
  {
   "cell_type": "code",
   "execution_count": 55,
   "id": "db2d9199",
   "metadata": {},
   "outputs": [],
   "source": [
    "z1.mean().backward()"
   ]
  },
  {
   "cell_type": "code",
   "execution_count": 56,
   "id": "0edc0ce6",
   "metadata": {},
   "outputs": [
    {
     "name": "stdout",
     "output_type": "stream",
     "text": [
      "tensor([[0.5000, 0.5000],\n",
      "        [0.5000, 0.5000]], dtype=torch.float64)\n"
     ]
    }
   ],
   "source": [
    "print(x1.grad)"
   ]
  },
  {
   "cell_type": "markdown",
   "id": "8734dfbd",
   "metadata": {},
   "source": [
    "### 线性回归\n",
    "\n",
    "生成数据"
   ]
  },
  {
   "cell_type": "code",
   "execution_count": 57,
   "id": "1625d9d1",
   "metadata": {},
   "outputs": [],
   "source": [
    "x_data = np.random.rand(100)\n",
    "noise = np.random.normal(0,0.01, x_data.shape)\n",
    "y_data = x_data * 0.1 + 0.2 + noise"
   ]
  },
  {
   "cell_type": "code",
   "execution_count": 58,
   "id": "3101695e",
   "metadata": {},
   "outputs": [
    {
     "data": {
      "image/png": "[encoded data removed]",
      "text/plain": [
       "<Figure size 432x288 with 1 Axes>"
      ]
     },
     "metadata": {
      "needs_background": "light"
     },
     "output_type": "display_data"
    }
   ],
   "source": [
    "plt.scatter(x_data, y_data)\n",
    "plt.show()"
   ]
  },
  {
   "cell_type": "markdown",
   "id": "6c535ba4",
   "metadata": {},
   "source": [
    "#### 用之前学过的 sklearn"
   ]
  },
  {
   "cell_type": "code",
   "execution_count": 59,
   "id": "3cfb39ff",
   "metadata": {},
   "outputs": [],
   "source": [
    "from sklearn.linear_model import LinearRegression as LR"
   ]
  },
  {
   "cell_type": "code",
   "execution_count": 60,
   "id": "05f182b2",
   "metadata": {},
   "outputs": [],
   "source": [
    "x_ = x_data.reshape(-1,1)"
   ]
  },
  {
   "cell_type": "code",
   "execution_count": 61,
   "id": "fe30412d",
   "metadata": {},
   "outputs": [
    {
     "data": {
      "text/plain": [
       "array([0.10324881])"
      ]
     },
     "execution_count": 61,
     "metadata": {},
     "output_type": "execute_result"
    }
   ],
   "source": [
    "lrl1 = LR()\n",
    "lrl1.fit(x_,y_data)\n",
    "lrl1.coef_"
   ]
  },
  {
   "cell_type": "code",
   "execution_count": 62,
   "id": "e3dff61c",
   "metadata": {},
   "outputs": [
    {
     "data": {
      "image/png": "[encoded data removed]",
      "text/plain": [
       "<Figure size 432x288 with 1 Axes>"
      ]
     },
     "metadata": {
      "needs_background": "light"
     },
     "output_type": "display_data"
    }
   ],
   "source": [
    "plt.scatter(x_data, y_data, s=1)\n",
    "plt.plot([min(x_data), max(x_data)], [lrl1.predict(min(x_data).reshape(1,-1)), lrl1.predict(max(x_data).reshape(1,-1))], 'r-')\n",
    "plt.show()"
   ]
  },
  {
   "cell_type": "markdown",
   "id": "2aeade01",
   "metadata": {},
   "source": [
    "#### pytorch"
   ]
  },
  {
   "cell_type": "code",
   "execution_count": 63,
   "id": "42b858ac",
   "metadata": {},
   "outputs": [],
   "source": [
    "x_data = x_data.reshape(-1,1)\n",
    "y_data = y_data.reshape(-1,1)"
   ]
  },
  {
   "cell_type": "markdown",
   "id": "aa5e6833",
   "metadata": {},
   "source": [
    "转成tensor"
   ]
  },
  {
   "cell_type": "code",
   "execution_count": 64,
   "id": "493ef370",
   "metadata": {},
   "outputs": [],
   "source": [
    "x_data = torch.FloatTensor(x_data)\n",
    "y_data = torch.FloatTensor(y_data)"
   ]
  },
  {
   "cell_type": "code",
   "execution_count": 65,
   "id": "4547580a",
   "metadata": {},
   "outputs": [],
   "source": [
    "inputs = Variable(x_data)\n",
    "target = Variable(y_data)"
   ]
  },
  {
   "cell_type": "markdown",
   "id": "572ff67a",
   "metadata": {},
   "source": [
    "构建模型\n",
    "\n",
    "一般把网络中具有可以学习系参数的层放到 __init__() 中"
   ]
  },
  {
   "cell_type": "code",
   "execution_count": 66,
   "id": "ffdce408",
   "metadata": {},
   "outputs": [],
   "source": [
    "class LinearR(nn.Module):\n",
    "    def __init__(self):\n",
    "        super(LinearR, self).__init__()\n",
    "        self.fc = nn.Linear(1,1)\n",
    "    def forward(self, x):\n",
    "        out = self.fc(x)\n",
    "        return out  "
   ]
  },
  {
   "cell_type": "markdown",
   "id": "3c8d5108",
   "metadata": {},
   "source": [
    "实例化模型"
   ]
  },
  {
   "cell_type": "code",
   "execution_count": 67,
   "id": "dad766b3",
   "metadata": {},
   "outputs": [],
   "source": [
    "model = LinearR()"
   ]
  },
  {
   "cell_type": "markdown",
   "id": "529bce2b",
   "metadata": {},
   "source": [
    "损失函数"
   ]
  },
  {
   "cell_type": "code",
   "execution_count": 68,
   "id": "0940fb08",
   "metadata": {},
   "outputs": [],
   "source": [
    "mse_loss = nn.MSELoss()"
   ]
  },
  {
   "cell_type": "markdown",
   "id": "61e03a26",
   "metadata": {},
   "source": [
    "优化器"
   ]
  },
  {
   "cell_type": "code",
   "execution_count": 69,
   "id": "65a54fb8",
   "metadata": {},
   "outputs": [],
   "source": [
    "optimizer = optim.SGD(model.parameters(), lr=0.1)"
   ]
  },
  {
   "cell_type": "code",
   "execution_count": 70,
   "id": "17cd29ec",
   "metadata": {},
   "outputs": [
    {
     "name": "stdout",
     "output_type": "stream",
     "text": [
      "name -> fc.weight, param -> Parameter containing:\n",
      "tensor([[-0.2948]], requires_grad=True)\n",
      "name -> fc.bias, param -> Parameter containing:\n",
      "tensor([-0.0902], requires_grad=True)\n"
     ]
    }
   ],
   "source": [
    "for name, parameters in model.named_parameters():\n",
    "    print('name -> {}, param -> {}'.format(name, parameters))"
   ]
  },
  {
   "cell_type": "code",
   "execution_count": 71,
   "id": "929c3d39",
   "metadata": {},
   "outputs": [
    {
     "name": "stdout",
     "output_type": "stream",
     "text": [
      "0 0.2649146020412445\n",
      "200 0.00012215350579936057\n",
      "400 0.00010675763769540936\n",
      "600 0.000106666142528411\n",
      "800 0.00010666566231520846\n",
      "1000 0.00010666560410754755\n"
     ]
    }
   ],
   "source": [
    "for i in range(1001):\n",
    "    out = model(inputs)\n",
    "    loss = mse_loss(out, target)\n",
    "    # 梯度清零\n",
    "    optimizer.zero_grad()\n",
    "    loss.backward()\n",
    "    optimizer.step()\n",
    "    if i % 200 == 0:\n",
    "        print(i, loss.item())"
   ]
  },
  {
   "cell_type": "code",
   "execution_count": 72,
   "id": "80ce18a3",
   "metadata": {},
   "outputs": [],
   "source": [
    "y_pred = model(inputs)"
   ]
  },
  {
   "cell_type": "code",
   "execution_count": 73,
   "id": "bc898229",
   "metadata": {},
   "outputs": [
    {
     "data": {
      "image/png": "[encoded data removed]",
      "text/plain": [
       "<Figure size 432x288 with 1 Axes>"
      ]
     },
     "metadata": {
      "needs_background": "light"
     },
     "output_type": "display_data"
    }
   ],
   "source": [
    "plt.scatter(x_data, y_data, s=2)\n",
    "plt.plot(x_data, y_pred.data.numpy(), 'r-', lw=1)\n",
    "plt.show()"
   ]
  },
  {
   "cell_type": "markdown",
   "id": "c733781f",
   "metadata": {},
   "source": [
    "### 非线性回归"
   ]
  },
  {
   "cell_type": "code",
   "execution_count": 74,
   "id": "a629ce0d",
   "metadata": {},
   "outputs": [],
   "source": [
    "x_nolinear = np.linspace(-2,2,200)[:,np.newaxis]\n",
    "noise = np.random.normal(0,0.2,x_nolinear.shape)\n",
    "y_nolinear = np.square(x_nolinear) + noise"
   ]
  },
  {
   "cell_type": "code",
   "execution_count": 75,
   "id": "874d8a7d",
   "metadata": {},
   "outputs": [
    {
     "data": {
      "image/png": "[encoded data removed]",
      "text/plain": [
       "<Figure size 432x288 with 1 Axes>"
      ]
     },
     "metadata": {
      "needs_background": "light"
     },
     "output_type": "display_data"
    }
   ],
   "source": [
    "plt.scatter(x_nolinear, y_nolinear, s=2)\n",
    "plt.show()"
   ]
  },
  {
   "cell_type": "markdown",
   "id": "c31e4e13",
   "metadata": {},
   "source": [
    "#### 传统机器学习\n",
    "- SVR\n",
    "- Kernal Ridge"
   ]
  },
  {
   "cell_type": "code",
   "execution_count": 76,
   "id": "04251c4e",
   "metadata": {},
   "outputs": [],
   "source": [
    "from sklearn.svm import SVR"
   ]
  },
  {
   "cell_type": "code",
   "execution_count": 77,
   "id": "4c1ccfd2",
   "metadata": {},
   "outputs": [
    {
     "data": {
      "text/plain": [
       "SVR()"
      ]
     },
     "execution_count": 77,
     "metadata": {},
     "output_type": "execute_result"
    }
   ],
   "source": [
    "lrl2 = SVR()\n",
    "lrl2.fit(x_nolinear,y_nolinear)"
   ]
  },
  {
   "cell_type": "code",
   "execution_count": 78,
   "id": "2741f7a5",
   "metadata": {
    "scrolled": true
   },
   "outputs": [
    {
     "data": {
      "image/png": "[encoded data removed]",
      "text/plain": [
       "<Figure size 432x288 with 1 Axes>"
      ]
     },
     "metadata": {
      "needs_background": "light"
     },
     "output_type": "display_data"
    }
   ],
   "source": [
    "plt.scatter(x_nolinear, y_nolinear, s=1)\n",
    "plt.plot(x_nolinear, lrl2.predict(x_nolinear), 'r-')\n",
    "plt.show()"
   ]
  },
  {
   "cell_type": "code",
   "execution_count": 79,
   "id": "4d968480",
   "metadata": {},
   "outputs": [],
   "source": [
    "from sklearn import kernel_ridge"
   ]
  },
  {
   "cell_type": "code",
   "execution_count": 80,
   "id": "b04e2aa8",
   "metadata": {},
   "outputs": [
    {
     "data": {
      "text/plain": [
       "KernelRidge(degree=2, kernel='poly')"
      ]
     },
     "execution_count": 80,
     "metadata": {},
     "output_type": "execute_result"
    }
   ],
   "source": [
    "lrl3 = kernel_ridge.KernelRidge(kernel='poly', degree=2)\n",
    "lrl3.fit(x_nolinear,y_nolinear)"
   ]
  },
  {
   "cell_type": "code",
   "execution_count": 81,
   "id": "55562459",
   "metadata": {},
   "outputs": [
    {
     "data": {
      "image/png": "[encoded data removed]",
      "text/plain": [
       "<Figure size 432x288 with 1 Axes>"
      ]
     },
     "metadata": {
      "needs_background": "light"
     },
     "output_type": "display_data"
    }
   ],
   "source": [
    "plt.scatter(x_nolinear, y_nolinear, s=1)\n",
    "plt.plot(x_nolinear, lrl3.predict(x_nolinear), 'r-')\n",
    "plt.show()"
   ]
  },
  {
   "cell_type": "markdown",
   "id": "c742b30c",
   "metadata": {},
   "source": [
    "#### pytorch"
   ]
  },
  {
   "cell_type": "code",
   "execution_count": 82,
   "id": "f5a5c245",
   "metadata": {},
   "outputs": [],
   "source": [
    "class noLinearR(nn.Module):\n",
    "    def __init__(self):\n",
    "        super(noLinearR, self).__init__()\n",
    "        # 1-10-1\n",
    "        self.fc1 = nn.Linear(1,10)\n",
    "        self.tanh = nn.Tanh()\n",
    "        self.fc2 = nn.Linear(10,1)\n",
    "        \n",
    "    def forward(self, x):\n",
    "        x = self.fc1(x)\n",
    "        x = self.tanh(x)\n",
    "        x = self.fc2(x)\n",
    "        return x"
   ]
  },
  {
   "cell_type": "code",
   "execution_count": 83,
   "id": "ef427c7d",
   "metadata": {},
   "outputs": [],
   "source": [
    "model1 = noLinearR()\n",
    "mes_loss = nn.MSELoss()\n",
    "optimizer = optim.SGD(model1.parameters(), lr=0.3)"
   ]
  },
  {
   "cell_type": "code",
   "execution_count": 84,
   "id": "2b32e27d",
   "metadata": {},
   "outputs": [],
   "source": [
    "inputs = Variable(torch.FloatTensor(x_nolinear))\n",
    "target = Variable(torch.FloatTensor(y_nolinear))"
   ]
  },
  {
   "cell_type": "code",
   "execution_count": 85,
   "id": "7225c5cf",
   "metadata": {},
   "outputs": [
    {
     "name": "stdout",
     "output_type": "stream",
     "text": [
      "0 4.16954231262207\n",
      "200 0.1527414172887802\n",
      "400 0.06649401038885117\n",
      "600 0.09761138260364532\n",
      "800 0.05927461013197899\n",
      "1000 0.0687788724899292\n",
      "1200 0.06948471814393997\n",
      "1400 0.06762362271547318\n",
      "1600 0.06612688302993774\n",
      "1800 0.06509360671043396\n",
      "2000 0.06433359533548355\n"
     ]
    }
   ],
   "source": [
    "for i in range(2001):\n",
    "    out = model1(inputs)\n",
    "    loss = mes_loss(out, target)\n",
    "    optimizer.zero_grad()\n",
    "    loss.backward()\n",
    "    optimizer.step()\n",
    "    if i % 200 == 0:\n",
    "        print(i, loss.item())"
   ]
  },
  {
   "cell_type": "code",
   "execution_count": 86,
   "id": "8fcae88e",
   "metadata": {},
   "outputs": [],
   "source": [
    "y_pred = model1(inputs)"
   ]
  },
  {
   "cell_type": "code",
   "execution_count": 87,
   "id": "d0fc6175",
   "metadata": {},
   "outputs": [
    {
     "data": {
      "image/png": "[encoded data removed]",
      "text/plain": [
       "<Figure size 432x288 with 1 Axes>"
      ]
     },
     "metadata": {
      "needs_background": "light"
     },
     "output_type": "display_data"
    }
   ],
   "source": [
    "plt.scatter(x_nolinear, y_nolinear, s=1)\n",
    "plt.plot(x_nolinear, y_pred.data.numpy(), 'r-')\n",
    "plt.show()"
   ]
  }
 ],
 "metadata": {
  "kernelspec": {
   "display_name": "Python 3 (ipykernel)",
   "language": "python",
   "name": "python3"
  },
  "language_info": {
   "codemirror_mode": {
    "name": "ipython",
    "version": 3
   },
   "file_extension": ".py",
   "mimetype": "text/x-python",
   "name": "python",
   "nbconvert_exporter": "python",
   "pygments_lexer": "ipython3",
   "version": "3.8.2"
  }
 },
 "nbformat": 4,
 "nbformat_minor": 5
}
